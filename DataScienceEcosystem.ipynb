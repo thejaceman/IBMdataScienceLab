{
  "metadata": {
    "kernelspec": {
      "name": "python",
      "display_name": "Python (Pyodide)",
      "language": "python"
    },
    "language_info": {
      "codemirror_mode": {
        "name": "python",
        "version": 3
      },
      "file_extension": ".py",
      "mimetype": "text/x-python",
      "name": "python",
      "nbconvert_exporter": "python",
      "pygments_lexer": "ipython3",
      "version": "3.8"
    }
  },
  "nbformat_minor": 5,
  "nbformat": 4,
  "cells": [
    {
      "id": "a9b1546d-a6d7-4c9c-af4a-16a44b4dadf5",
      "cell_type": "markdown",
      "source": "# Data Science Tools and Ecosystem",
      "metadata": {}
    },
    {
      "id": "cfe0c7ad-8ccc-43b2-8361-52caeeccb8ec",
      "cell_type": "markdown",
      "source": "In this notebook, Data Science Tools and Ecosystem are summarized.",
      "metadata": {}
    },
    {
      "id": "c36e6565-92f0-4d4e-b1ba-18524c6cb07c",
      "cell_type": "code",
      "source": "**Objectives:**\n* List popular langes for Data Science\n* List popular Data Science libraries\n* List open source Data Science tools",
      "metadata": {
        "trusted": true
      },
      "outputs": [],
      "execution_count": null
    },
    {
      "id": "532506b0-f2d0-458a-9db4-a66db330df6a",
      "cell_type": "markdown",
      "source": "Some of the popular languages that Data Scientists use are:\n\n1. Python\n2. R\n3. SQL",
      "metadata": {}
    },
    {
      "id": "c1a6446a-151d-4cf3-a726-eb003fd7f8ee",
      "cell_type": "markdown",
      "source": "Some of the commonly used libraries used by Data Scientists include:\n\n1. NumPy\n2. Matplotlib\n3. Pandas",
      "metadata": {}
    },
    {
      "id": "9629ff7b-e62d-496a-9259-c875c0832365",
      "cell_type": "markdown",
      "source": "| Data Science Tools |\n|--------------------|\n| Apache Spark       |\n| TensorFlow         |\n| Apache Hadoop      |",
      "metadata": {}
    },
    {
      "id": "e50b1ed8-b312-485f-ada1-919feb96de8b",
      "cell_type": "code",
      "source": "### Below are a few examples of evaluating arithmetic expressions in Python",
      "metadata": {
        "trusted": true
      },
      "outputs": [],
      "execution_count": null
    },
    {
      "id": "16170f63-4773-4be5-b384-88f36611422a",
      "cell_type": "code",
      "source": "# This is a simple arithmetic expression to multiply then add integers\n(3*4)+5",
      "metadata": {
        "trusted": true
      },
      "outputs": [
        {
          "execution_count": 2,
          "output_type": "execute_result",
          "data": {
            "text/plain": "17"
          },
          "metadata": {}
        }
      ],
      "execution_count": 2
    },
    {
      "id": "9d087caf-0d97-4ae0-b95c-b6323917b997",
      "cell_type": "code",
      "source": "# This will convert 200 minutes to hours by dividing by 60\n200/60",
      "metadata": {
        "trusted": true
      },
      "outputs": [
        {
          "execution_count": 3,
          "output_type": "execute_result",
          "data": {
            "text/plain": "3.3333333333333335"
          },
          "metadata": {}
        }
      ],
      "execution_count": 3
    },
    {
      "id": "9778eaf7-d682-48d4-b44f-b81105895e9d",
      "cell_type": "markdown",
      "source": "## Author\nJason Barnett",
      "metadata": {}
    }
  ]
}